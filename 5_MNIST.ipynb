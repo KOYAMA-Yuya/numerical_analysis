{
  "nbformat": 4,
  "nbformat_minor": 0,
  "metadata": {
    "colab": {
      "provenance": [],
      "include_colab_link": true
    },
    "kernelspec": {
      "name": "python3",
      "display_name": "Python 3"
    },
    "language_info": {
      "name": "python"
    }
  },
  "cells": [
    {
      "cell_type": "markdown",
      "metadata": {
        "id": "view-in-github",
        "colab_type": "text"
      },
      "source": [
        "<a href=\"https://colab.research.google.com/github/KOYAMA-Yuya/numerical_analysis/blob/main/5_MNIST.ipynb\" target=\"_parent\"><img src=\"https://colab.research.google.com/assets/colab-badge.svg\" alt=\"Open In Colab\"/></a>"
      ]
    },
    {
      "cell_type": "markdown",
      "source": [
        "# ニューラルネットワーク"
      ],
      "metadata": {
        "id": "AkWWbpSLGo-D"
      }
    },
    {
      "cell_type": "markdown",
      "source": [
        "## Googleドライブをマウントする\n",
        "\n",
        "Googleドライブ内のデータセットを読みこむためにサーバーにGoogleドライブをマウントする\n",
        "\n",
        "必ず切断のたびに行うこと"
      ],
      "metadata": {
        "id": "jYCqSLu2cMs3"
      }
    },
    {
      "cell_type": "code",
      "source": [
        "from google.colab import drive\n",
        "drive.mount('/content/drive')"
      ],
      "metadata": {
        "colab": {
          "base_uri": "https://localhost:8080/"
        },
        "id": "m_3zgZ_hb_7U",
        "outputId": "57bb42c3-258e-4695-9b9a-3639b90bb450"
      },
      "execution_count": null,
      "outputs": [
        {
          "output_type": "stream",
          "name": "stdout",
          "text": [
            "Mounted at /content/drive\n"
          ]
        }
      ]
    },
    {
      "cell_type": "markdown",
      "source": [
        "### カレントディレクトリを移動"
      ],
      "metadata": {
        "id": "FDAg9pYmaozp"
      }
    },
    {
      "cell_type": "code",
      "source": [
        "cd drive"
      ],
      "metadata": {
        "colab": {
          "base_uri": "https://localhost:8080/"
        },
        "id": "x9WVGoo6cTE0",
        "outputId": "7ae43b8a-05b6-440b-a87d-2944ae214eae"
      },
      "execution_count": null,
      "outputs": [
        {
          "output_type": "stream",
          "name": "stdout",
          "text": [
            "/content/drive\n"
          ]
        }
      ]
    },
    {
      "cell_type": "code",
      "source": [
        "cd MyDrive"
      ],
      "metadata": {
        "colab": {
          "base_uri": "https://localhost:8080/"
        },
        "id": "z5B8fqWJcXcr",
        "outputId": "20f7dc2e-3f98-4acc-fe70-8a9fe106cad0"
      },
      "execution_count": null,
      "outputs": [
        {
          "output_type": "stream",
          "name": "stdout",
          "text": [
            "/content/drive/MyDrive\n"
          ]
        }
      ]
    },
    {
      "cell_type": "code",
      "source": [
        "cd mnist"
      ],
      "metadata": {
        "colab": {
          "base_uri": "https://localhost:8080/"
        },
        "id": "OMI11o_kck0W",
        "outputId": "ebbb9358-b769-4125-a607-6e0b388bbdaa"
      },
      "execution_count": null,
      "outputs": [
        {
          "output_type": "stream",
          "name": "stdout",
          "text": [
            "/content/drive/MyDrive/mnist\n"
          ]
        }
      ]
    },
    {
      "cell_type": "markdown",
      "source": [
        "### `ls`で中身を確認"
      ],
      "metadata": {
        "id": "cuxFPvx8a3RD"
      }
    },
    {
      "cell_type": "code",
      "source": [
        "ls"
      ],
      "metadata": {
        "colab": {
          "base_uri": "https://localhost:8080/"
        },
        "id": "H91yii842Weg",
        "outputId": "18add99c-28e6-4877-9bb4-d20daacc151a"
      },
      "execution_count": null,
      "outputs": [
        {
          "output_type": "stream",
          "name": "stdout",
          "text": [
            "\u001b[0m\u001b[01;34mcommon\u001b[0m/  \u001b[01;34mdataset\u001b[0m/  sample_weight.pkl\n"
          ]
        }
      ]
    },
    {
      "cell_type": "markdown",
      "source": [
        "`common/  dataset/  sample_weight.pkl`\n",
        "\n",
        "が入っていることを確認して次に進む"
      ],
      "metadata": {
        "id": "eiI46nFebrDd"
      }
    },
    {
      "cell_type": "markdown",
      "source": [
        "## 手書き文字認識\n",
        "\n",
        "まずは用意された重み学習済みのサンプルデータを使って文字認識を行う"
      ],
      "metadata": {
        "id": "_gxad8KY3luq"
      }
    },
    {
      "cell_type": "markdown",
      "source": [
        "### データセットの読み込み"
      ],
      "metadata": {
        "id": "e94bTaNhcSlJ"
      }
    },
    {
      "cell_type": "code",
      "source": [
        "import sys, os\n",
        "sys.path.append(os.pardir) # 親ディレクトリのファイルをインポートするための設定\n",
        "from dataset.mnist import load_mnist"
      ],
      "metadata": {
        "id": "8mnyLUkBdVDZ"
      },
      "execution_count": null,
      "outputs": []
    },
    {
      "cell_type": "code",
      "source": [
        "(x_train, t_train), (x_test, t_test) = load_mnist(flatten = True, normalize = False)"
      ],
      "metadata": {
        "id": "FV2jJ23CfaE0"
      },
      "execution_count": null,
      "outputs": []
    },
    {
      "cell_type": "markdown",
      "source": [
        "学習データとテストデータの内訳を確認"
      ],
      "metadata": {
        "id": "bJrjE-TlcZvH"
      }
    },
    {
      "cell_type": "code",
      "source": [
        "print(x_train.shape)\n",
        "print(t_train.shape)\n",
        "print(x_test.shape)\n",
        "print(t_test.shape)"
      ],
      "metadata": {
        "colab": {
          "base_uri": "https://localhost:8080/"
        },
        "id": "0zLgy9cGgS6o",
        "outputId": "0216ab54-013d-424e-f0c6-f3f4458783b4"
      },
      "execution_count": null,
      "outputs": [
        {
          "output_type": "stream",
          "name": "stdout",
          "text": [
            "(60000, 784)\n",
            "(60000,)\n",
            "(10000, 784)\n",
            "(10000,)\n"
          ]
        }
      ]
    },
    {
      "cell_type": "markdown",
      "source": [
        "### データを整形して中身を見る\n",
        "\n",
        "データセットの中身を確認するために画像形式で表示させてみる"
      ],
      "metadata": {
        "id": "cbHZzIT_deJH"
      }
    },
    {
      "cell_type": "code",
      "source": [
        "import sys, os\n",
        "sys.path.append(os.pardir)\n",
        "import numpy as np\n",
        "from dataset.mnist import load_mnist\n",
        "from PIL import Image\n",
        "from IPython.display import display\n",
        "\n",
        "def img_show(img):\n",
        "  pil_img = Image.fromarray(np.uint8(img))\n",
        "  display(pil_img)\n",
        "\n",
        "(x_train, t_train), (x_test, t_test) = load_mnist(flatten = True, normalize = False)\n",
        "\n",
        "img = x_train[0]\n",
        "label = t_train[0]\n",
        "\n",
        "print(\"表示される数字のラベル：\", label)\n",
        "print(\"整形前のデータの形式：\", img.shape)\n",
        "img = img.reshape(28, 28)\n",
        "print(\"整形後のデータの形式：\", img.shape)\n",
        "\n",
        "img_show(img)"
      ],
      "metadata": {
        "colab": {
          "base_uri": "https://localhost:8080/",
          "height": 97
        },
        "id": "PBhUfBIyhGyM",
        "outputId": "57977520-6e07-47fd-f897-9657c8a6f53e"
      },
      "execution_count": null,
      "outputs": [
        {
          "output_type": "stream",
          "name": "stdout",
          "text": [
            "表示される数字のラベル： 5\n",
            "整形前のデータの形式： (784,)\n",
            "整形後のデータの形式： (28, 28)\n"
          ]
        },
        {
          "output_type": "display_data",
          "data": {
            "text/plain": [
              "<PIL.Image.Image image mode=L size=28x28>"
            ],
            "image/png": "[encoded data removed]"
          },
          "metadata": {}
        }
      ]
    },
    {
      "cell_type": "markdown",
      "source": [
        "### サンプルデータを読み込む\n",
        "\n",
        "事前に重みの学習を済ませたモデルを読み込み，手書き文字認識を行う\n",
        "\n",
        "データ読み込み用の関数`getdata()`, `init_network()`と認識用の関数`predict(network, x)`を定義"
      ],
      "metadata": {
        "id": "UZNfxPicfG7J"
      }
    },
    {
      "cell_type": "code",
      "source": [
        "# coding: utf-8\n",
        "import sys, os\n",
        "sys.path.append(os.pardir)  # 親ディレクトリのファイルをインポートするための設定\n",
        "import numpy as np\n",
        "import pickle\n",
        "from dataset.mnist import load_mnist\n",
        "from common.functions import *"
      ],
      "metadata": {
        "id": "XbomVAPYygsN"
      },
      "execution_count": null,
      "outputs": []
    },
    {
      "cell_type": "code",
      "source": [
        "def get_data():\n",
        "    # データセットからテストデータを読み込む\n",
        "    (x_train, t_train), (x_test, t_test) = load_mnist(normalize=True, flatten=True, one_hot_label=False)\n",
        "    return x_test, t_test"
      ],
      "metadata": {
        "id": "7lrGAw5GzHIl"
      },
      "execution_count": null,
      "outputs": []
    },
    {
      "cell_type": "code",
      "source": [
        "def init_network():\n",
        "    # 学習済みのサンプルデータを読み込む\n",
        "    with open(\"sample_weight.pkl\", 'rb') as f:\n",
        "        network = pickle.load(f)\n",
        "    return network"
      ],
      "metadata": {
        "id": "DgSqQOmlzJo6"
      },
      "execution_count": null,
      "outputs": []
    },
    {
      "cell_type": "code",
      "source": [
        "def predict(network, x):\n",
        "    W1, W2, W3 = network['W1'], network['W2'], network['W3']\n",
        "    b1, b2, b3 = network['b1'], network['b2'], network['b3']\n",
        "\n",
        "    a1 = np.dot(x, W1) + b1\n",
        "    z1 = sigmoid(a1)\n",
        "    a2 = np.dot(z1, W2) + b2\n",
        "    z2 = sigmoid(a2)\n",
        "    a3 = np.dot(z2, W3) + b3\n",
        "    y = softmax(a3)\n",
        "\n",
        "    return y"
      ],
      "metadata": {
        "id": "InWJS2tKzMJF"
      },
      "execution_count": null,
      "outputs": []
    },
    {
      "cell_type": "markdown",
      "source": [
        "### 認識と認識率の確認\n",
        "\n",
        "サンプルデータでの認識率が表示される"
      ],
      "metadata": {
        "id": "_4fsO_Tpi-pG"
      }
    },
    {
      "cell_type": "code",
      "source": [
        "x, t = get_data() # MNISTデータを取得（x:画像データ，t:教師データ）\n",
        "network = init_network() # ネットワークを生成\n",
        "accuracy_cnt = 0\n",
        "for i in range(len(x)): # 全ての画像データをfor文で処理にかける\n",
        "    y = predict(network, x[i]) # ニューラルネットワークを通して予測した結果を得る（最後の出力はsoftmaxのため確率）\n",
        "    p = np.argmax(y) # 最も確率の高い要素のインデックスを取得\n",
        "    if p == t[i]: # 最も確率が高いと予測した数字と教師データが同じか確認\n",
        "        accuracy_cnt += 1 # 同じ場合はカウントを1増やす\n",
        "\n",
        "print(\"Accuracy:\" + str(float(accuracy_cnt) / len(x)))"
      ],
      "metadata": {
        "id": "WrRmX5bUz6bn",
        "outputId": "51ea9956-362e-4ed6-e9fc-a41b08dbb105",
        "colab": {
          "base_uri": "https://localhost:8080/"
        }
      },
      "execution_count": null,
      "outputs": [
        {
          "output_type": "stream",
          "name": "stdout",
          "text": [
            "Accuracy:0.9352\n"
          ]
        }
      ]
    },
    {
      "cell_type": "markdown",
      "source": [
        "## 損失関数"
      ],
      "metadata": {
        "id": "e0aYsqiV_MYM"
      }
    },
    {
      "cell_type": "markdown",
      "source": [
        "### 2乗和誤差\n",
        "\n",
        "各要素の差の2乗を計算してその総和を算出"
      ],
      "metadata": {
        "id": "x-9Fvy1fAM4H"
      }
    },
    {
      "cell_type": "code",
      "source": [
        "def mean_squared_error(y, t):\n",
        "  return 0.5 * np.sum((y - t) ** 2)"
      ],
      "metadata": {
        "id": "0I85Fbfp12YE"
      },
      "execution_count": null,
      "outputs": []
    },
    {
      "cell_type": "markdown",
      "source": [
        "y:ニューラルネットワークの出力\n",
        "\n",
        "t:教師データ"
      ],
      "metadata": {
        "id": "NgFaLDuWJUvx"
      }
    },
    {
      "cell_type": "code",
      "source": [
        "y = [0.1, 0.05, 0.6, 0.0, 0.05, 0.1, 0.0, 0.1, 0.0, 0.0]\n",
        "t = [0, 0, 1, 0, 0, 0, 0, 0, 0, 0]"
      ],
      "metadata": {
        "id": "VeWSkl9-26m7"
      },
      "execution_count": null,
      "outputs": []
    },
    {
      "cell_type": "code",
      "source": [
        "mean_squared_error(np.array(y), np.array(t))"
      ],
      "metadata": {
        "colab": {
          "base_uri": "https://localhost:8080/"
        },
        "id": "RFyQnVbZ29_V",
        "outputId": "79e99e6a-288a-4923-e971-4a2bd08f8a68"
      },
      "execution_count": null,
      "outputs": [
        {
          "output_type": "execute_result",
          "data": {
            "text/plain": [
              "0.09750000000000003"
            ]
          },
          "metadata": {},
          "execution_count": 17
        }
      ]
    },
    {
      "cell_type": "markdown",
      "source": [
        "正解から外れると大きくなる"
      ],
      "metadata": {
        "id": "pHA5kUUJJ2sj"
      }
    },
    {
      "cell_type": "code",
      "source": [
        "y = [0.1, 0.05, 0.1, 0.0, 0.05, 0.1, 0.0, 0.6, 0.0, 0.0]"
      ],
      "metadata": {
        "id": "Xxbtfrnx3AIX"
      },
      "execution_count": null,
      "outputs": []
    },
    {
      "cell_type": "code",
      "source": [
        "mean_squared_error(np.array(y), np.array(t))"
      ],
      "metadata": {
        "colab": {
          "base_uri": "https://localhost:8080/"
        },
        "id": "Vm3Ei-Qx3Rp1",
        "outputId": "75003af2-0cd4-4c00-8fe3-5c519aedfbb7"
      },
      "execution_count": null,
      "outputs": [
        {
          "output_type": "execute_result",
          "data": {
            "text/plain": [
              "0.5975"
            ]
          },
          "metadata": {},
          "execution_count": 19
        }
      ]
    },
    {
      "cell_type": "markdown",
      "source": [
        "### 交差エントロピー誤差\n",
        "\n",
        "正解ラベルの出力結果だけ参照する"
      ],
      "metadata": {
        "id": "lTxkpKiSATVr"
      }
    },
    {
      "cell_type": "code",
      "source": [
        "def cross_entropy_error(y, t):\n",
        "  delta = 1e-7 #すごい小さい数\n",
        "  return -np.sum(t * np.log(y + delta))"
      ],
      "metadata": {
        "id": "2NsZ7ixg8FTr"
      },
      "execution_count": null,
      "outputs": []
    },
    {
      "cell_type": "code",
      "source": [
        "y = [0.1, 0.05, 0.6, 0.0, 0.05, 0.1, 0.0, 0.1, 0.0, 0.0]\n",
        "t = [0, 0, 1, 0, 0, 0, 0, 0, 0, 0]"
      ],
      "metadata": {
        "id": "XwWSu8Im-KnB"
      },
      "execution_count": null,
      "outputs": []
    },
    {
      "cell_type": "code",
      "source": [
        "cross_entropy_error(np.array(y), np.array(t))"
      ],
      "metadata": {
        "colab": {
          "base_uri": "https://localhost:8080/"
        },
        "id": "ZkJ27xY6-jiR",
        "outputId": "f35f61cc-a118-4848-e890-74aacf445e1f"
      },
      "execution_count": null,
      "outputs": [
        {
          "output_type": "execute_result",
          "data": {
            "text/plain": [
              "0.510825457099338"
            ]
          },
          "metadata": {},
          "execution_count": 22
        }
      ]
    },
    {
      "cell_type": "code",
      "source": [
        "y = [0.1, 0.05, 0.1, 0.0, 0.05, 0.1, 0.0, 0.6, 0.0, 0.0]"
      ],
      "metadata": {
        "id": "9gvT1t9H-2uf"
      },
      "execution_count": null,
      "outputs": []
    },
    {
      "cell_type": "code",
      "source": [
        "cross_entropy_error(np.array(y), np.array(t))"
      ],
      "metadata": {
        "colab": {
          "base_uri": "https://localhost:8080/"
        },
        "id": "Oe-Nwks--59T",
        "outputId": "af14d10f-329e-4881-ad98-5597f22913de"
      },
      "execution_count": null,
      "outputs": [
        {
          "output_type": "execute_result",
          "data": {
            "text/plain": [
              "2.302584092994546"
            ]
          },
          "metadata": {},
          "execution_count": 24
        }
      ]
    },
    {
      "cell_type": "markdown",
      "source": [
        "## ミニバッチ学習\n",
        "\n",
        "訓練データ全体からデータを無作為選ぶ仕組みを実装する"
      ],
      "metadata": {
        "id": "MXEKPkzcAZg4"
      }
    },
    {
      "cell_type": "code",
      "source": [
        "import sys, os\n",
        "sys.path.append(os.pardir)\n",
        "import numpy as np\n",
        "from dataset.mnist import load_mnist"
      ],
      "metadata": {
        "id": "Crz3etOf_kX5"
      },
      "execution_count": null,
      "outputs": []
    },
    {
      "cell_type": "code",
      "source": [
        "(x_train, t_train), (x_test, t_test) = load_mnist(normalize = True, one_hot_label = True)\n",
        "print(x_train.shape)\n",
        "print(t_train.shape)"
      ],
      "metadata": {
        "colab": {
          "base_uri": "https://localhost:8080/"
        },
        "id": "bqvGvlUNCW58",
        "outputId": "0fa35b4d-53db-4fa9-9910-5f80130dd0f2"
      },
      "execution_count": null,
      "outputs": [
        {
          "output_type": "stream",
          "name": "stdout",
          "text": [
            "(60000, 784)\n",
            "(60000, 10)\n"
          ]
        }
      ]
    },
    {
      "cell_type": "code",
      "source": [
        "train_size = x_train.shape[0]\n",
        "batch_size = 10\n",
        "batch_mask = np.random.choice(train_size, batch_size)\n",
        "x_batch = x_train[batch_mask]\n",
        "t_batch = t_train[batch_mask]"
      ],
      "metadata": {
        "id": "rfTPHIVCDlfF"
      },
      "execution_count": null,
      "outputs": []
    },
    {
      "cell_type": "code",
      "source": [
        "np.random.choice(60000, 10)"
      ],
      "metadata": {
        "colab": {
          "base_uri": "https://localhost:8080/"
        },
        "id": "YFXRqYKKDpnw",
        "outputId": "8fd6af0e-8642-4136-88d8-48fbe816646d"
      },
      "execution_count": null,
      "outputs": [
        {
          "output_type": "execute_result",
          "data": {
            "text/plain": [
              "array([ 8546, 35626, 53816, 30754, 23468, 44154, 39641, 22699, 33935,\n",
              "       20379])"
            ]
          },
          "metadata": {},
          "execution_count": 28
        }
      ]
    },
    {
      "cell_type": "markdown",
      "source": [
        "ミニバッチ学習に合わせて損失関数を更新"
      ],
      "metadata": {
        "id": "yCZM22sytvrS"
      }
    },
    {
      "cell_type": "code",
      "source": [
        "def cross_entropy_error(y, t):\n",
        "  if y.ndim == 1:\n",
        "    t = t.reshape(1, t.size)\n",
        "    y = y.reshape(1, y.size)\n",
        "\n",
        "  batch_size = y.shape[0]\n",
        "  return -np.sum(t * np.log(y + 1e-7)) / batch_size"
      ],
      "metadata": {
        "id": "t1fEOaoOEWn6"
      },
      "execution_count": null,
      "outputs": []
    },
    {
      "cell_type": "code",
      "source": [
        "def cross_entropy_error(y, t):\n",
        "  if y.ndim == 1:\n",
        "    t = t.reshape(1, t.size)\n",
        "    y = y.reshape(1, y.size)\n",
        "\n",
        "  # 教師データがone-hot-vectorの場合、正解ラベルのインデックスに変換\n",
        "  if t.size == y.size:\n",
        "    t = t.argmax(axis=1)\n",
        "\n",
        "  batch_size = y.shape[0]\n",
        "  return -np.sum(np.log(y[np.arrange(batch_size), t] + 1e-7)) / batch_size"
      ],
      "metadata": {
        "id": "WadNv59FE6fS"
      },
      "execution_count": null,
      "outputs": []
    },
    {
      "cell_type": "markdown",
      "source": [
        "## 勾配法"
      ],
      "metadata": {
        "id": "JRWvQ8J0Anik"
      }
    },
    {
      "cell_type": "markdown",
      "source": [
        "関数の定義"
      ],
      "metadata": {
        "id": "EUXJfWgDL7ie"
      }
    },
    {
      "cell_type": "code",
      "source": [
        "def function_1(x):\n",
        "  return x[0] ** 2 + x[1] ** 2"
      ],
      "metadata": {
        "id": "RS-Z2WtyFAQP"
      },
      "execution_count": null,
      "outputs": []
    },
    {
      "cell_type": "markdown",
      "source": [
        "勾配を求める"
      ],
      "metadata": {
        "id": "QY9vfAHJgsta"
      }
    },
    {
      "cell_type": "code",
      "source": [
        "def numerical_gradient(f, x):\n",
        "  h = 1e-4 # 0.0001\n",
        "  grad = np.zeros_like(x) # xと同じ形状の配列を生成\n",
        "\n",
        "  for idx in range(x.size):\n",
        "    tmp_val = x[idx]\n",
        "    # f(x+h)の計算\n",
        "    x[idx] = tmp_val + h\n",
        "    fxh1 = f(x)\n",
        "\n",
        "    # f(x-h)の計算\n",
        "    x[idx] = tmp_val - h\n",
        "    fxh2 = f(x)\n",
        "\n",
        "    grad[idx] = (fxh1 - fxh2) / (2 * h)\n",
        "    x[idx] = tmp_val # 値を元に戻す\n",
        "\n",
        "  return grad"
      ],
      "metadata": {
        "id": "ujMMU6OYItUX"
      },
      "execution_count": null,
      "outputs": []
    },
    {
      "cell_type": "code",
      "source": [
        "numerical_gradient(function_1, np.array([3.0, 4.0]))"
      ],
      "metadata": {
        "colab": {
          "base_uri": "https://localhost:8080/"
        },
        "id": "kNhCAfRxJ9W4",
        "outputId": "77a83b9d-5132-43f2-eb4b-a39cc1a0d2c3"
      },
      "execution_count": null,
      "outputs": [
        {
          "output_type": "execute_result",
          "data": {
            "text/plain": [
              "array([6., 8.])"
            ]
          },
          "metadata": {},
          "execution_count": 48
        }
      ]
    },
    {
      "cell_type": "code",
      "source": [
        "numerical_gradient(function_1, np.array([0.0, 2.0]))"
      ],
      "metadata": {
        "colab": {
          "base_uri": "https://localhost:8080/"
        },
        "id": "nSjKH-cLJ_JG",
        "outputId": "ef1a1023-d7ce-44af-932b-517c38f8f19d"
      },
      "execution_count": null,
      "outputs": [
        {
          "output_type": "execute_result",
          "data": {
            "text/plain": [
              "array([0., 4.])"
            ]
          },
          "metadata": {},
          "execution_count": 49
        }
      ]
    },
    {
      "cell_type": "code",
      "source": [
        "numerical_gradient(function_1, np.array([3.0, 0.0]))"
      ],
      "metadata": {
        "colab": {
          "base_uri": "https://localhost:8080/"
        },
        "id": "EY8Zt61jKBks",
        "outputId": "f742f31e-2214-4021-eb3d-40e1a7a53353"
      },
      "execution_count": null,
      "outputs": [
        {
          "output_type": "execute_result",
          "data": {
            "text/plain": [
              "array([6., 0.])"
            ]
          },
          "metadata": {},
          "execution_count": 50
        }
      ]
    },
    {
      "cell_type": "markdown",
      "source": [
        "### 勾配の表示\n",
        "\n",
        "勾配をグラフとして表示する\n",
        "\n",
        "メモ内のスライドを参考に書いた"
      ],
      "metadata": {
        "id": "rb-gMkpdIo-4"
      }
    },
    {
      "cell_type": "code",
      "source": [
        "# coding: utf-8\n",
        "# cf.http://d.hatena.ne.jp/white_wheels/20100327/p3\n",
        "import numpy as np\n",
        "import matplotlib.pylab as plt\n",
        "from mpl_toolkits.mplot3d import Axes3D\n",
        "\n",
        "\n",
        "def _numerical_gradient_no_batch(f, x):\n",
        "    h = 1e-4  # 0.0001\n",
        "    grad = np.zeros_like(x)\n",
        "\n",
        "    for idx in range(x.size):\n",
        "        tmp_val = x[idx]\n",
        "        x[idx] = float(tmp_val) + h\n",
        "        fxh1 = f(x)  # f(x+h)\n",
        "\n",
        "        x[idx] = tmp_val - h\n",
        "        fxh2 = f(x)  # f(x-h)\n",
        "        grad[idx] = (fxh1 - fxh2) / (2*h)\n",
        "\n",
        "        x[idx] = tmp_val  # 値を元に戻す\n",
        "\n",
        "    return grad\n",
        "\n",
        "\n",
        "def numerical_gradient(f, X):\n",
        "    if X.ndim == 1:\n",
        "        return _numerical_gradient_no_batch(f, X)\n",
        "    else:\n",
        "        grad = np.zeros_like(X)\n",
        "\n",
        "        for idx, x in enumerate(X):\n",
        "            grad[idx] = _numerical_gradient_no_batch(f, x)\n",
        "\n",
        "        return grad\n",
        "\n",
        "\n",
        "def function_2(x):\n",
        "    if x.ndim == 1:\n",
        "        return np.sum(x**2)\n",
        "    else:\n",
        "        return np.sum(x**2, axis=1)\n",
        "\n",
        "\n",
        "def tangent_line(f, x):\n",
        "    d = numerical_gradient(f, x)\n",
        "    print(d)\n",
        "    y = f(x) - d*x\n",
        "    return lambda t: d*t + y\n",
        "\n",
        "\n",
        "if __name__ == '__main__':\n",
        "    x0 = np.arange(-2, 2.5, 0.25)\n",
        "    x1 = np.arange(-2, 2.5, 0.25)\n",
        "    X, Y = np.meshgrid(x0, x1)\n",
        "\n",
        "    X = X.flatten()\n",
        "    Y = Y.flatten()\n",
        "\n",
        "    grad = numerical_gradient(function_2, np.array([X, Y]).T).T\n",
        "\n",
        "    plt.figure()\n",
        "    plt.quiver(X, Y, -grad[0], -grad[1],  angles=\"xy\",color=\"#666666\")\n",
        "    plt.xlim([-2, 2])\n",
        "    plt.ylim([-2, 2])\n",
        "    plt.xlabel('x0')\n",
        "    plt.ylabel('x1')\n",
        "    plt.grid()\n",
        "    plt.draw()\n",
        "    plt.show()\n"
      ],
      "metadata": {
        "colab": {
          "base_uri": "https://localhost:8080/",
          "height": 455
        },
        "id": "x1piF76iKdwC",
        "outputId": "a057e201-a467-413a-b681-73be03eff853"
      },
      "execution_count": null,
      "outputs": [
        {
          "output_type": "display_data",
          "data": {
            "text/plain": [
              "<Figure size 640x480 with 1 Axes>"
            ],
            "image/png": "[encoded data removed]"
          },
          "metadata": {}
        }
      ]
    },
    {
      "cell_type": "markdown",
      "source": [
        "## 2層ニューラルネットワークのクラス\n",
        "\n",
        "クラスとして二層ニューラルネットワークを実装する\n",
        "\n",
        "クラスとはざっくりいうと関数と変数の塊をひな型にしたもののこと\n",
        "\n",
        "それぞれの関数の大まかな内容をコメントアウトでまとめる"
      ],
      "metadata": {
        "id": "SxwLnNjwPY95"
      }
    },
    {
      "cell_type": "code",
      "source": [
        "from common.gradient import numerical_gradient\n",
        "from common.functions import *\n",
        "\n",
        "class TwoLayerNet:\n",
        "\n",
        "    def __init__(self, input_size, hidden_size, output_size, weight_init_std=0.01):\n",
        "        # この関数はこのクラスが呼び出された（インスタンス化）ときに実行される\n",
        "        # 重みを入れる変数を用意する\n",
        "        self.params = {}\n",
        "        self.params['W1'] = weight_init_std * np.random.randn(input_size, hidden_size)\n",
        "        self.params['b1'] = np.zeros(hidden_size)\n",
        "        self.params['W2'] = weight_init_std * np.random.randn(hidden_size, output_size)\n",
        "        self.params['b2'] = np.zeros(output_size)\n",
        "\n",
        "    def predict(self, x):\n",
        "        # 現在の重みパラメータを使って文字認識する\n",
        "        W1, W2 = self.params['W1'], self.params['W2']\n",
        "        b1, b2 = self.params['b1'], self.params['b2']\n",
        "\n",
        "        a1 = np.dot(x, W1) + b1\n",
        "        z1 = sigmoid(a1)\n",
        "        a2 = np.dot(z1, W2) + b2\n",
        "        y = softmax(a2)\n",
        "\n",
        "        return y\n",
        "\n",
        "    # x:入力データ, t:教師データ\n",
        "    def loss(self, x, t):\n",
        "        # 損失関数を利用してlossを出す\n",
        "        y = self.predict(x)\n",
        "\n",
        "        return cross_entropy_error(y, t)\n",
        "\n",
        "    def accuracy(self, x, t):\n",
        "        # 正答率を出す\n",
        "        y = self.predict(x)\n",
        "        y = np.argmax(y, axis=1)\n",
        "        t = np.argmax(t, axis=1)\n",
        "\n",
        "        accuracy = np.sum(y == t) / float(x.shape[0])\n",
        "        return accuracy\n",
        "\n",
        "    def numerical_gradient(self, x, t):\n",
        "        # 微分を使って勾配を出す\n",
        "        loss_W = lambda W: self.loss(x, t)\n",
        "\n",
        "        grads = {}\n",
        "        grads['W1'] = numerical_gradient(loss_W, self.params['W1'])\n",
        "        grads['b1'] = numerical_gradient(loss_W, self.params['b1'])\n",
        "        grads['W2'] = numerical_gradient(loss_W, self.params['W2'])\n",
        "        grads['b2'] = numerical_gradient(loss_W, self.params['b2'])\n",
        "\n",
        "        return grads\n",
        "\n",
        "    def gradient(self, x, t):\n",
        "        # 誤差伝播法を使って勾配を出す\n",
        "        W1, W2 = self.params['W1'], self.params['W2']\n",
        "        b1, b2 = self.params['b1'], self.params['b2']\n",
        "        grads = {}\n",
        "\n",
        "        batch_num = x.shape[0]\n",
        "\n",
        "        # forward\n",
        "        a1 = np.dot(x, W1) + b1\n",
        "        z1 = sigmoid(a1)\n",
        "        a2 = np.dot(z1, W2) + b2\n",
        "        y = softmax(a2)\n",
        "\n",
        "        # backward\n",
        "        dy = (y - t) / batch_num\n",
        "        grads['W2'] = np.dot(z1.T, dy)\n",
        "        grads['b2'] = np.sum(dy, axis=0)\n",
        "\n",
        "        dz1 = np.dot(dy, W2.T)\n",
        "        da1 = sigmoid_grad(a1) * dz1\n",
        "        grads['W1'] = np.dot(x.T, da1)\n",
        "        grads['b1'] = np.sum(da1, axis=0)\n",
        "\n",
        "        return grads"
      ],
      "metadata": {
        "id": "oDj1aHNbPl5P"
      },
      "execution_count": null,
      "outputs": []
    },
    {
      "cell_type": "markdown",
      "source": [
        "データセットを用意する"
      ],
      "metadata": {
        "id": "Ti7FKdJ5onPG"
      }
    },
    {
      "cell_type": "code",
      "source": [
        "(x_train, t_train), (x_test, t_test) = load_mnist(normalize = True, one_hot_label = True)\n",
        "print(x_train.shape)\n",
        "print(t_train.shape)"
      ],
      "metadata": {
        "colab": {
          "base_uri": "https://localhost:8080/"
        },
        "id": "n6bxCdikPxgi",
        "outputId": "25d892e1-6f98-47fa-9977-5da4d2220850"
      },
      "execution_count": null,
      "outputs": [
        {
          "output_type": "stream",
          "name": "stdout",
          "text": [
            "(60000, 784)\n",
            "(60000, 10)\n"
          ]
        }
      ]
    },
    {
      "cell_type": "markdown",
      "source": [
        "### 学習してみる\n",
        "\n",
        "実際に学習を回す"
      ],
      "metadata": {
        "id": "MYX5iJ4FOW0H"
      }
    },
    {
      "cell_type": "code",
      "source": [
        "train_size = x_train.shape[0]\n",
        "\n",
        "# ハイパーパラメータ\n",
        "iters_num = 10000  # 繰り返しの回数（バッチ数）を適宜設定する\n",
        "batch_size = 100\n",
        "learning_rate = 0.1\n",
        "\n",
        "# 損失と認識率の保管先\n",
        "train_loss_list = []\n",
        "train_acc_list = []\n",
        "test_acc_list = []\n",
        "\n",
        "# クラスからインスタンスを作成\n",
        "network = TwoLayerNet(input_size=784, hidden_size=50, output_size=10)\n",
        "\n",
        "# 何バッチで何エポックか出す\n",
        "iter_per_epoch = max(train_size / batch_size, 1)\n",
        "\n",
        "for i in range(iters_num):\n",
        "    # ミニバッチ\n",
        "    batch_mask = np.random.choice(train_size, batch_size)\n",
        "    x_batch = x_train[batch_mask]\n",
        "    t_batch = t_train[batch_mask]\n",
        "\n",
        "    # 勾配の計算\n",
        "    #grad = network.numerical_gradient(x_batch, t_batch)\n",
        "    grad = network.gradient(x_batch, t_batch)\n",
        "\n",
        "    # パラメータの更新\n",
        "    for key in ('W1', 'b1', 'W2', 'b2'):\n",
        "        network.params[key] -= learning_rate * grad[key]\n",
        "\n",
        "    # 損失を出す\n",
        "    loss = network.loss(x_batch, t_batch)\n",
        "    train_loss_list.append(loss)\n",
        "\n",
        "    # エポックごとに認識率を記録\n",
        "    if i % iter_per_epoch == 0:\n",
        "        train_acc = network.accuracy(x_train, t_train)\n",
        "        test_acc = network.accuracy(x_test, t_test)\n",
        "        train_acc_list.append(train_acc)\n",
        "        test_acc_list.append(test_acc)\n",
        "        print(\"train acc, test acc | \" + str(train_acc) + \", \" + str(test_acc))\n"
      ],
      "metadata": {
        "colab": {
          "base_uri": "https://localhost:8080/"
        },
        "id": "WIIQ4QBrRLn1",
        "outputId": "7caed96a-dfd8-479f-a2ad-e876cb48b138"
      },
      "execution_count": null,
      "outputs": [
        {
          "output_type": "stream",
          "name": "stdout",
          "text": [
            "train acc, test acc | 0.10441666666666667, 0.1028\n",
            "train acc, test acc | 0.78755, 0.7942\n",
            "train acc, test acc | 0.8778333333333334, 0.8818\n",
            "train acc, test acc | 0.89825, 0.9027\n",
            "train acc, test acc | 0.9068333333333334, 0.9112\n",
            "train acc, test acc | 0.9148, 0.9167\n",
            "train acc, test acc | 0.91905, 0.9219\n",
            "train acc, test acc | 0.9237666666666666, 0.927\n",
            "train acc, test acc | 0.9275333333333333, 0.9282\n",
            "train acc, test acc | 0.9306166666666666, 0.9306\n",
            "train acc, test acc | 0.9345166666666667, 0.9356\n",
            "train acc, test acc | 0.9369666666666666, 0.9368\n",
            "train acc, test acc | 0.9396333333333333, 0.9386\n",
            "train acc, test acc | 0.9419833333333333, 0.9411\n",
            "train acc, test acc | 0.94445, 0.9432\n",
            "train acc, test acc | 0.9451666666666667, 0.9435\n",
            "train acc, test acc | 0.9471833333333334, 0.9461\n"
          ]
        }
      ]
    },
    {
      "cell_type": "markdown",
      "source": [
        "### 認識率の表示\n",
        "\n",
        "学習中に記録したリストからグラフを作成\n",
        "\n",
        "同様に損失のグラフも作成できる"
      ],
      "metadata": {
        "id": "qwF7mzIWOdM-"
      }
    },
    {
      "cell_type": "code",
      "source": [
        "markers = {'train': 'o', 'test': 's'}\n",
        "x = np.arange(len(train_acc_list))\n",
        "plt.plot(x, train_acc_list, label='train acc')\n",
        "plt.plot(x, test_acc_list, label='test acc', linestyle='--')\n",
        "plt.xlabel(\"epochs\")\n",
        "plt.ylabel(\"accuracy\")\n",
        "plt.ylim(0, 1.0)\n",
        "plt.legend(loc='lower right')\n",
        "plt.show()"
      ],
      "metadata": {
        "colab": {
          "base_uri": "https://localhost:8080/",
          "height": 455
        },
        "id": "IeLXVBEM-md-",
        "outputId": "8848f6ea-5c79-412e-c448-b3102ff5a0b4"
      },
      "execution_count": null,
      "outputs": [
        {
          "output_type": "display_data",
          "data": {
            "text/plain": [
              "<Figure size 640x480 with 1 Axes>"
            ],
            "image/png": "[encoded data removed]"
          },
          "metadata": {}
        }
      ]
    },
    {
      "cell_type": "markdown",
      "source": [
        "### 認識させてみる\n",
        "\n",
        "テストデータの認識例を表示する\n",
        "\n",
        "改変すれば認識に迷った例のみ出力などもできる"
      ],
      "metadata": {
        "id": "7yqbFhhdOlsB"
      }
    },
    {
      "cell_type": "code",
      "source": [
        "import matplotlib.pyplot as plt\n",
        "\n",
        "def showImg(x):\n",
        "    example = x.reshape((28, 28))\n",
        "    plt.figure()\n",
        "    plt.xticks([])\n",
        "    plt.yticks([])\n",
        "    plt.grid(False)\n",
        "    plt.imshow(example)\n",
        "    plt.show()\n",
        "    return\n",
        "\n",
        "test_size = 20\n",
        "test_mask = np.random.choice(10000, test_size)\n",
        "x = x_test[test_mask]\n",
        "t = t_test[test_mask]\n",
        "\n",
        "for i in range(20):\n",
        "    y = network.predict(x[i])\n",
        "    p= np.argmax(y)\n",
        "    print(\"正解 \" + str(t[i]))\n",
        "    print(\"判定[ \" + str(p) + \" ]\")\n",
        "    count = 0\n",
        "    for v in y:\n",
        "        print(\"[\"+str(count)+\"] {:.2%}\".format(v))\n",
        "        count += 1\n",
        "    showImg(x[i])"
      ],
      "metadata": {
        "colab": {
          "base_uri": "https://localhost:8080/",
          "height": 1000
        },
        "id": "sXeiqg3ji6Rk",
        "outputId": "9d899c3f-791a-4050-e9c8-0f248a6ca828"
      },
      "execution_count": null,
      "outputs": [
        {
          "output_type": "stream",
          "name": "stdout",
          "text": [
            "正解 [0. 0. 0. 0. 1. 0. 0. 0. 0. 0.]\n",
            "判定[ 4 ]\n",
            "[0] 0.00%\n",
            "[1] 0.00%\n",
            "[2] 0.00%\n",
            "[3] 0.00%\n",
            "[4] 99.22%\n",
            "[5] 0.02%\n",
            "[6] 0.00%\n",
            "[7] 0.03%\n",
            "[8] 0.12%\n",
            "[9] 0.61%\n"
          ]
        },
        {
          "output_type": "display_data",
          "data": {
            "text/plain": [
              "<Figure size 640x480 with 1 Axes>"
            ],
            "image/png": "[encoded data removed]"
          },
          "metadata": {}
        },
        {
          "output_type": "stream",
          "name": "stdout",
          "text": [
            "正解 [1. 0. 0. 0. 0. 0. 0. 0. 0. 0.]\n",
            "判定[ 0 ]\n",
            "[0] 99.02%\n",
            "[1] 0.00%\n",
            "[2] 0.08%\n",
            "[3] 0.02%\n",
            "[4] 0.01%\n",
            "[5] 0.78%\n",
            "[6] 0.03%\n",
            "[7] 0.00%\n",
            "[8] 0.06%\n",
            "[9] 0.00%\n"
          ]
        },
        {
          "output_type": "display_data",
          "data": {
            "text/plain": [
              "<Figure size 640x480 with 1 Axes>"
            ],
            "image/png": "[encoded data removed]"
          },
          "metadata": {}
        },
        {
          "output_type": "stream",
          "name": "stdout",
          "text": [
            "正解 [0. 0. 1. 0. 0. 0. 0. 0. 0. 0.]\n",
            "判定[ 2 ]\n",
            "[0] 0.01%\n",
            "[1] 0.00%\n",
            "[2] 99.90%\n",
            "[3] 0.06%\n",
            "[4] 0.00%\n",
            "[5] 0.00%\n",
            "[6] 0.00%\n",
            "[7] 0.00%\n",
            "[8] 0.02%\n",
            "[9] 0.00%\n"
          ]
        },
        {
          "output_type": "display_data",
          "data": {
            "text/plain": [
              "<Figure size 640x480 with 1 Axes>"
            ],
            "image/png": "[encoded data removed]"
          },
          "metadata": {}
        },
        {
          "output_type": "stream",
          "name": "stdout",
          "text": [
            "正解 [0. 1. 0. 0. 0. 0. 0. 0. 0. 0.]\n",
            "判定[ 1 ]\n",
            "[0] 0.00%\n",
            "[1] 99.28%\n",
            "[2] 0.22%\n",
            "[3] 0.06%\n",
            "[4] 0.00%\n",
            "[5] 0.09%\n",
            "[6] 0.03%\n",
            "[7] 0.03%\n",
            "[8] 0.27%\n",
            "[9] 0.01%\n"
          ]
        },
        {
          "output_type": "display_data",
          "data": {
            "text/plain": [
              "<Figure size 640x480 with 1 Axes>"
            ],
            "image/png": "[encoded data removed]"
          },
          "metadata": {}
        },
        {
          "output_type": "stream",
          "name": "stdout",
          "text": [
            "正解 [0. 0. 0. 0. 0. 1. 0. 0. 0. 0.]\n",
            "判定[ 5 ]\n",
            "[0] 0.00%\n",
            "[1] 0.46%\n",
            "[2] 0.03%\n",
            "[3] 12.10%\n",
            "[4] 0.17%\n",
            "[5] 83.15%\n",
            "[6] 0.08%\n",
            "[7] 0.01%\n",
            "[8] 3.12%\n",
            "[9] 0.88%\n"
          ]
        },
        {
          "output_type": "display_data",
          "data": {
            "text/plain": [
              "<Figure size 640x480 with 1 Axes>"
            ],
            "image/png": "[encoded data removed]"
          },
          "metadata": {}
        },
        {
          "output_type": "stream",
          "name": "stdout",
          "text": [
            "正解 [0. 1. 0. 0. 0. 0. 0. 0. 0. 0.]\n",
            "判定[ 1 ]\n",
            "[0] 0.00%\n",
            "[1] 97.00%\n",
            "[2] 0.96%\n",
            "[3] 0.42%\n",
            "[4] 0.01%\n",
            "[5] 0.22%\n",
            "[6] 0.00%\n",
            "[7] 0.97%\n",
            "[8] 0.34%\n",
            "[9] 0.08%\n"
          ]
        },
        {
          "output_type": "display_data",
          "data": {
            "text/plain": [
              "<Figure size 640x480 with 1 Axes>"
            ],
            "image/png": "[encoded data removed]"
          },
          "metadata": {}
        },
        {
          "output_type": "stream",
          "name": "stdout",
          "text": [
            "正解 [0. 1. 0. 0. 0. 0. 0. 0. 0. 0.]\n",
            "判定[ 1 ]\n",
            "[0] 0.00%\n",
            "[1] 99.29%\n",
            "[2] 0.15%\n",
            "[3] 0.15%\n",
            "[4] 0.00%\n",
            "[5] 0.07%\n",
            "[6] 0.01%\n",
            "[7] 0.11%\n",
            "[8] 0.17%\n",
            "[9] 0.04%\n"
          ]
        },
        {
          "output_type": "display_data",
          "data": {
            "text/plain": [
              "<Figure size 640x480 with 1 Axes>"
            ],
            "image/png": "[encoded data removed]"
          },
          "metadata": {}
        },
        {
          "output_type": "stream",
          "name": "stdout",
          "text": [
            "正解 [0. 0. 0. 0. 0. 0. 0. 0. 0. 1.]\n",
            "判定[ 9 ]\n",
            "[0] 0.00%\n",
            "[1] 0.00%\n",
            "[2] 0.00%\n",
            "[3] 0.06%\n",
            "[4] 1.20%\n",
            "[5] 0.03%\n",
            "[6] 0.00%\n",
            "[7] 1.01%\n",
            "[8] 0.11%\n",
            "[9] 97.59%\n"
          ]
        },
        {
          "output_type": "display_data",
          "data": {
            "text/plain": [
              "<Figure size 640x480 with 1 Axes>"
            ],
            "image/png": "[encoded data removed]"
          },
          "metadata": {}
        },
        {
          "output_type": "stream",
          "name": "stdout",
          "text": [
            "正解 [0. 0. 1. 0. 0. 0. 0. 0. 0. 0.]\n",
            "判定[ 2 ]\n",
            "[0] 4.63%\n",
            "[1] 0.00%\n",
            "[2] 93.96%\n",
            "[3] 0.83%\n",
            "[4] 0.01%\n",
            "[5] 0.02%\n",
            "[6] 0.04%\n",
            "[7] 0.01%\n",
            "[8] 0.49%\n",
            "[9] 0.01%\n"
          ]
        },
        {
          "output_type": "display_data",
          "data": {
            "text/plain": [
              "<Figure size 640x480 with 1 Axes>"
            ],
            "image/png": "[encoded data removed]"
          },
          "metadata": {}
        },
        {
          "output_type": "stream",
          "name": "stdout",
          "text": [
            "正解 [0. 0. 0. 0. 0. 0. 0. 0. 1. 0.]\n",
            "判定[ 8 ]\n",
            "[0] 0.00%\n",
            "[1] 0.09%\n",
            "[2] 0.20%\n",
            "[3] 0.07%\n",
            "[4] 0.03%\n",
            "[5] 0.19%\n",
            "[6] 0.02%\n",
            "[7] 0.00%\n",
            "[8] 99.30%\n",
            "[9] 0.09%\n"
          ]
        },
        {
          "output_type": "display_data",
          "data": {
            "text/plain": [
              "<Figure size 640x480 with 1 Axes>"
            ],
            "image/png": "[encoded data removed]"
          },
          "metadata": {}
        },
        {
          "output_type": "stream",
          "name": "stdout",
          "text": [
            "正解 [0. 0. 0. 0. 0. 0. 0. 1. 0. 0.]\n",
            "判定[ 7 ]\n",
            "[0] 0.01%\n",
            "[1] 0.00%\n",
            "[2] 0.05%\n",
            "[3] 0.46%\n",
            "[4] 0.00%\n",
            "[5] 0.01%\n",
            "[6] 0.00%\n",
            "[7] 99.37%\n",
            "[8] 0.00%\n",
            "[9] 0.10%\n"
          ]
        },
        {
          "output_type": "display_data",
          "data": {
            "text/plain": [
              "<Figure size 640x480 with 1 Axes>"
            ],
            "image/png": "[encoded data removed]"
          },
          "metadata": {}
        },
        {
          "output_type": "stream",
          "name": "stdout",
          "text": [
            "正解 [0. 1. 0. 0. 0. 0. 0. 0. 0. 0.]\n",
            "判定[ 1 ]\n",
            "[0] 0.00%\n",
            "[1] 98.77%\n",
            "[2] 0.18%\n",
            "[3] 0.03%\n",
            "[4] 0.01%\n",
            "[5] 0.24%\n",
            "[6] 0.01%\n",
            "[7] 0.02%\n",
            "[8] 0.73%\n",
            "[9] 0.01%\n"
          ]
        },
        {
          "output_type": "display_data",
          "data": {
            "text/plain": [
              "<Figure size 640x480 with 1 Axes>"
            ],
            "image/png": "[encoded data removed]"
          },
          "metadata": {}
        },
        {
          "output_type": "stream",
          "name": "stdout",
          "text": [
            "正解 [0. 0. 0. 0. 1. 0. 0. 0. 0. 0.]\n",
            "判定[ 6 ]\n",
            "[0] 0.25%\n",
            "[1] 0.00%\n",
            "[2] 36.38%\n",
            "[3] 0.09%\n",
            "[4] 10.61%\n",
            "[5] 0.52%\n",
            "[6] 51.60%\n",
            "[7] 0.00%\n",
            "[8] 0.47%\n",
            "[9] 0.07%\n"
          ]
        },
        {
          "output_type": "display_data",
          "data": {
            "text/plain": [
              "<Figure size 640x480 with 1 Axes>"
            ],
            "image/png": "[encoded data removed]"
          },
          "metadata": {}
        },
        {
          "output_type": "stream",
          "name": "stdout",
          "text": [
            "正解 [0. 0. 1. 0. 0. 0. 0. 0. 0. 0.]\n",
            "判定[ 2 ]\n",
            "[0] 0.01%\n",
            "[1] 0.03%\n",
            "[2] 99.13%\n",
            "[3] 0.57%\n",
            "[4] 0.00%\n",
            "[5] 0.01%\n",
            "[6] 0.01%\n",
            "[7] 0.00%\n",
            "[8] 0.23%\n",
            "[9] 0.00%\n"
          ]
        },
        {
          "output_type": "display_data",
          "data": {
            "text/plain": [
              "<Figure size 640x480 with 1 Axes>"
            ],
            "image/png": "[encoded data removed]"
          },
          "metadata": {}
        },
        {
          "output_type": "stream",
          "name": "stdout",
          "text": [
            "正解 [0. 0. 0. 0. 0. 0. 1. 0. 0. 0.]\n",
            "判定[ 6 ]\n",
            "[0] 0.00%\n",
            "[1] 0.00%\n",
            "[2] 1.12%\n",
            "[3] 0.00%\n",
            "[4] 0.29%\n",
            "[5] 0.04%\n",
            "[6] 98.52%\n",
            "[7] 0.00%\n",
            "[8] 0.02%\n",
            "[9] 0.00%\n"
          ]
        },
        {
          "output_type": "display_data",
          "data": {
            "text/plain": [
              "<Figure size 640x480 with 1 Axes>"
            ],
            "image/png": "[encoded data removed]"
          },
          "metadata": {}
        },
        {
          "output_type": "stream",
          "name": "stdout",
          "text": [
            "正解 [1. 0. 0. 0. 0. 0. 0. 0. 0. 0.]\n",
            "判定[ 0 ]\n",
            "[0] 99.48%\n",
            "[1] 0.00%\n",
            "[2] 0.09%\n",
            "[3] 0.00%\n",
            "[4] 0.03%\n",
            "[5] 0.06%\n",
            "[6] 0.16%\n",
            "[7] 0.00%\n",
            "[8] 0.16%\n",
            "[9] 0.01%\n"
          ]
        },
        {
          "output_type": "display_data",
          "data": {
            "text/plain": [
              "<Figure size 640x480 with 1 Axes>"
            ],
            "image/png": "[encoded data removed]"
          },
          "metadata": {}
        },
        {
          "output_type": "stream",
          "name": "stdout",
          "text": [
            "正解 [0. 0. 0. 0. 0. 0. 0. 0. 1. 0.]\n",
            "判定[ 8 ]\n",
            "[0] 0.02%\n",
            "[1] 0.03%\n",
            "[2] 0.48%\n",
            "[3] 1.00%\n",
            "[4] 0.15%\n",
            "[5] 1.87%\n",
            "[6] 0.01%\n",
            "[7] 0.04%\n",
            "[8] 92.86%\n",
            "[9] 3.53%\n"
          ]
        },
        {
          "output_type": "display_data",
          "data": {
            "text/plain": [
              "<Figure size 640x480 with 1 Axes>"
            ],
            "image/png": "[encoded data removed]"
          },
          "metadata": {}
        },
        {
          "output_type": "stream",
          "name": "stdout",
          "text": [
            "正解 [0. 0. 0. 0. 0. 0. 0. 0. 1. 0.]\n",
            "判定[ 8 ]\n",
            "[0] 0.00%\n",
            "[1] 0.60%\n",
            "[2] 0.02%\n",
            "[3] 0.72%\n",
            "[4] 0.00%\n",
            "[5] 0.13%\n",
            "[6] 0.00%\n",
            "[7] 0.02%\n",
            "[8] 97.71%\n",
            "[9] 0.79%\n"
          ]
        },
        {
          "output_type": "display_data",
          "data": {
            "text/plain": [
              "<Figure size 640x480 with 1 Axes>"
            ],
            "image/png": "[encoded data removed]"
          },
          "metadata": {}
        },
        {
          "output_type": "stream",
          "name": "stdout",
          "text": [
            "正解 [0. 0. 0. 0. 0. 1. 0. 0. 0. 0.]\n",
            "判定[ 5 ]\n",
            "[0] 0.06%\n",
            "[1] 0.21%\n",
            "[2] 0.07%\n",
            "[3] 1.44%\n",
            "[4] 4.76%\n",
            "[5] 92.67%\n",
            "[6] 0.29%\n",
            "[7] 0.05%\n",
            "[8] 0.35%\n",
            "[9] 0.09%\n"
          ]
        },
        {
          "output_type": "display_data",
          "data": {
            "text/plain": [
              "<Figure size 640x480 with 1 Axes>"
            ],
            "image/png": "[encoded data removed]"
          },
          "metadata": {}
        },
        {
          "output_type": "stream",
          "name": "stdout",
          "text": [
            "正解 [0. 0. 0. 0. 1. 0. 0. 0. 0. 0.]\n",
            "判定[ 4 ]\n",
            "[0] 0.00%\n",
            "[1] 0.00%\n",
            "[2] 0.00%\n",
            "[3] 0.01%\n",
            "[4] 99.62%\n",
            "[5] 0.02%\n",
            "[6] 0.00%\n",
            "[7] 0.01%\n",
            "[8] 0.02%\n",
            "[9] 0.31%\n"
          ]
        },
        {
          "output_type": "display_data",
          "data": {
            "text/plain": [
              "<Figure size 640x480 with 1 Axes>"
            ],
            "image/png": "[encoded data removed]"
          },
          "metadata": {}
        }
      ]
    }
  ]
}